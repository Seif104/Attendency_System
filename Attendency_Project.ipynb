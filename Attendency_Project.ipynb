{
 "cells": [
  {
   "cell_type": "markdown",
   "metadata": {},
   "source": [
    "<h1><center>Attendency Project</center></h1>"
   ]
  },
  {
   "cell_type": "markdown",
   "metadata": {},
   "source": [
    "## Importing Libraries"
   ]
  },
  {
   "cell_type": "code",
   "execution_count": 1,
   "metadata": {},
   "outputs": [],
   "source": [
    "import numpy as np\n",
    "import pandas as pd\n",
    "import matplotlib.pyplot as plt\n",
    "import cv2\n",
    "import face_recognition\n",
    "import os\n",
    "import datetime\n",
    "from random import randrange\n",
    "import csv\n",
    "from tkinter import *\n",
    "from PIL import Image, ImageTk"
   ]
  },
  {
   "cell_type": "markdown",
   "metadata": {},
   "source": [
    "## Encoding Images\n",
    "- Extracting 128 feature for each face in the image which are used to compare and recognize faces"
   ]
  },
  {
   "cell_type": "code",
   "execution_count": 2,
   "metadata": {},
   "outputs": [],
   "source": [
    "def encoding(images):\n",
    "    \"\"\" This function for encoding images to exctract 128 feature for each face.\n",
    "\n",
    "    Args:\n",
    "        images: The images which we will apply encoding.\n",
    "    Returns:\n",
    "        A list of images after encoding.\n",
    "    \"\"\"\n",
    "    encode_images = []\n",
    "    for image in images:\n",
    "        image = cv2.cvtColor(image,cv2.COLOR_BGR2RGB)\n",
    "        encode_image = face_recognition.face_encodings(image)[0]\n",
    "        encode_images.append(encode_image)\n",
    "    return encode_images"
   ]
  },
  {
   "cell_type": "markdown",
   "metadata": {},
   "source": [
    "## Access images of people and get their names"
   ]
  },
  {
   "cell_type": "code",
   "execution_count": 3,
   "metadata": {},
   "outputs": [],
   "source": [
    "Images = []\n",
    "Names = []\n",
    "lst = os.listdir(\"D:/Projects/Face Recognition/Images\")\n",
    "for name in lst:\n",
    "    image = plt.imread(f'D:/Projects/Face Recognition/Images/{name}')\n",
    "    Images.append(image)\n",
    "    Names.append(name[:-4])"
   ]
  },
  {
   "cell_type": "markdown",
   "metadata": {},
   "source": [
    "## Apply encodnig on these images"
   ]
  },
  {
   "cell_type": "code",
   "execution_count": 5,
   "metadata": {},
   "outputs": [],
   "source": [
    "encoding_images = encoding(Images)"
   ]
  },
  {
   "cell_type": "markdown",
   "metadata": {},
   "source": [
    "## Recording Attendence"
   ]
  },
  {
   "cell_type": "code",
   "execution_count": 6,
   "metadata": {},
   "outputs": [],
   "source": [
    "def recording_attendence(name):\n",
    "    \"\"\" This function for recording attendence in the attendence file.\n",
    "\n",
    "    Args:\n",
    "        name: The name of recognized person.\n",
    "    \"\"\"\n",
    "\n",
    "    data = pd.read_csv('D:/Attendency Project/Attendence.csv')\n",
    "\n",
    "    today = datetime.datetime.today().strftime(\"%d-%B-%Y\")\n",
    "\n",
    "    ##### if the last day is not today, then create new day with today's date #####\n",
    "    if data.at[data.index[-1],'Day'] != today:\n",
    "        data.loc[data.index[-1]+1] = ['Absent' for i in range(len(data.columns))]\n",
    "        data.at[data.index[-1],'Day'] = today\n",
    "    \n",
    "    ##### if it is the first time to recognize that person in that day, record it. Otherwise, he olready exist. #####\n",
    "    if data.at[data.index[-1],name] == \"Absent\":\n",
    "        data.at[data.index[-1],name] = datetime.datetime.now().strftime(\"%H:%M:%S\")\n",
    "    \n",
    "    ##### Save these changes to the file. #####\n",
    "    data.to_csv('D:/Attendency Project/Attendence.csv',index=False)"
   ]
  },
  {
   "cell_type": "markdown",
   "metadata": {},
   "source": [
    "## Starting recognizing people\n",
    "- Open web cam and recognize people"
   ]
  },
  {
   "cell_type": "code",
   "execution_count": 7,
   "metadata": {},
   "outputs": [],
   "source": [
    "def starting_recognition():\n",
    "    \"\"\" This function is for opening web cam and starting recognition.\n",
    "    \"\"\"\n",
    "    ##### Open Camera #####\n",
    "    video = cv2.VideoCapture(0)\n",
    "\n",
    "    while video.isOpened():\n",
    "        state, frame = video.read()\n",
    "        if state:\n",
    "            ##### Getting the location of detected faces in the form of (top,right,bottom,left) #####\n",
    "            current_frame_faces_location = face_recognition.face_locations(frame)\n",
    "\n",
    "            ##### Encoding the real-time image which come from web cam. #####\n",
    "            current_frame_encoding = face_recognition.face_encodings(frame,current_frame_faces_location)\n",
    "\n",
    "            ##### Loop for each face in the real-time image #####\n",
    "            for encode_face, face_location in zip(current_frame_encoding,current_frame_faces_location):\n",
    "                matches = face_recognition.compare_faces(encoding_images,encode_face)\n",
    "                face_distance = face_recognition.face_distance(encoding_images,encode_face)\n",
    "                min_distance = np.argmin(face_distance) ## The index of minimum distance\n",
    "\n",
    "                ##### if the value (at the index of minimum distance) is true:\n",
    "                if matches[min_distance]:  \n",
    "\n",
    "                    ##### Getting the name at the index of minimum distance as is it the same person. #####\n",
    "                    name = Names[min_distance]\n",
    "\n",
    "                    ##### Drawing a rectangle around the face according to its locations. #####\n",
    "                    ##### face_location ==> is a tuple (top,right,bottom,left) #####\n",
    "                    cv2.rectangle(frame,(face_location[3],face_location[0]),(face_location[1],face_location[2]),(0,255,0),2)\n",
    "\n",
    "                    ##### Puting the name of the person on the real-time image. #####\n",
    "                    cv2.putText(frame,name,(face_location[3],face_location[0]-5),cv2.FONT_HERSHEY_COMPLEX,1,(255,255,255),2)\n",
    "\n",
    "                    ###### Recording the recognized person name. #####\n",
    "                    recording_attendence(name)\n",
    "                \n",
    "            cv2.imshow(\"Image\",frame)\n",
    "            if cv2.waitKey(1) == ord('q'):\n",
    "                break\n",
    "\n",
    "        else:\n",
    "            break\n",
    "\n",
    "    video.release()\n",
    "    cv2.destroyAllWindows()"
   ]
  },
  {
   "cell_type": "code",
   "execution_count": 67,
   "metadata": {},
   "outputs": [],
   "source": [
    "starting_recognition()"
   ]
  },
  {
   "cell_type": "code",
   "execution_count": 8,
   "metadata": {},
   "outputs": [
    {
     "data": {
      "text/html": [
       "<div>\n",
       "<style scoped>\n",
       "    .dataframe tbody tr th:only-of-type {\n",
       "        vertical-align: middle;\n",
       "    }\n",
       "\n",
       "    .dataframe tbody tr th {\n",
       "        vertical-align: top;\n",
       "    }\n",
       "\n",
       "    .dataframe thead th {\n",
       "        text-align: right;\n",
       "    }\n",
       "</style>\n",
       "<table border=\"1\" class=\"dataframe\">\n",
       "  <thead>\n",
       "    <tr style=\"text-align: right;\">\n",
       "      <th></th>\n",
       "      <th>Day</th>\n",
       "      <th>Elon Mask</th>\n",
       "      <th>Ahmed Zewail</th>\n",
       "      <th>Jeff Bezos</th>\n",
       "    </tr>\n",
       "  </thead>\n",
       "  <tbody>\n",
       "    <tr>\n",
       "      <th>0</th>\n",
       "      <td>01-November-2021</td>\n",
       "      <td>10:55:35</td>\n",
       "      <td>10:16:17</td>\n",
       "      <td>10:18:24</td>\n",
       "    </tr>\n",
       "    <tr>\n",
       "      <th>1</th>\n",
       "      <td>02-November-2021</td>\n",
       "      <td>10:38:53</td>\n",
       "      <td>10:58:01</td>\n",
       "      <td>Absent</td>\n",
       "    </tr>\n",
       "    <tr>\n",
       "      <th>2</th>\n",
       "      <td>03-November-2021</td>\n",
       "      <td>10:04:41</td>\n",
       "      <td>08:42:47</td>\n",
       "      <td>08:45:58</td>\n",
       "    </tr>\n",
       "    <tr>\n",
       "      <th>3</th>\n",
       "      <td>04-November-2021</td>\n",
       "      <td>09:19:46</td>\n",
       "      <td>10:20:48</td>\n",
       "      <td>09:22:12</td>\n",
       "    </tr>\n",
       "    <tr>\n",
       "      <th>4</th>\n",
       "      <td>05-November-2021</td>\n",
       "      <td>10:16:02</td>\n",
       "      <td>09:18:09</td>\n",
       "      <td>10:11:18</td>\n",
       "    </tr>\n",
       "    <tr>\n",
       "      <th>...</th>\n",
       "      <td>...</td>\n",
       "      <td>...</td>\n",
       "      <td>...</td>\n",
       "      <td>...</td>\n",
       "    </tr>\n",
       "    <tr>\n",
       "      <th>199</th>\n",
       "      <td>19-May-2022</td>\n",
       "      <td>10:10:05</td>\n",
       "      <td>Absent</td>\n",
       "      <td>Absent</td>\n",
       "    </tr>\n",
       "    <tr>\n",
       "      <th>200</th>\n",
       "      <td>20-May-2022</td>\n",
       "      <td>10:05:30</td>\n",
       "      <td>Absent</td>\n",
       "      <td>10:50:10</td>\n",
       "    </tr>\n",
       "    <tr>\n",
       "      <th>201</th>\n",
       "      <td>21-May-2022</td>\n",
       "      <td>08:28:22</td>\n",
       "      <td>10:20:53</td>\n",
       "      <td>08:52:21</td>\n",
       "    </tr>\n",
       "    <tr>\n",
       "      <th>202</th>\n",
       "      <td>21-May-2022</td>\n",
       "      <td>08:29:32</td>\n",
       "      <td>08:23:33</td>\n",
       "      <td>08:20:13</td>\n",
       "    </tr>\n",
       "    <tr>\n",
       "      <th>203</th>\n",
       "      <td>22-May-2022</td>\n",
       "      <td>00:49:46</td>\n",
       "      <td>00:50:02</td>\n",
       "      <td>00:49:58</td>\n",
       "    </tr>\n",
       "  </tbody>\n",
       "</table>\n",
       "<p>204 rows × 4 columns</p>\n",
       "</div>"
      ],
      "text/plain": [
       "                  Day Elon Mask Ahmed Zewail Jeff Bezos\n",
       "0    01-November-2021  10:55:35     10:16:17   10:18:24\n",
       "1    02-November-2021  10:38:53     10:58:01     Absent\n",
       "2    03-November-2021  10:04:41     08:42:47   08:45:58\n",
       "3    04-November-2021  09:19:46     10:20:48   09:22:12\n",
       "4    05-November-2021  10:16:02     09:18:09   10:11:18\n",
       "..                ...       ...          ...        ...\n",
       "199       19-May-2022  10:10:05       Absent     Absent\n",
       "200       20-May-2022  10:05:30       Absent   10:50:10\n",
       "201       21-May-2022  08:28:22     10:20:53   08:52:21\n",
       "202       21-May-2022  08:29:32     08:23:33   08:20:13\n",
       "203       22-May-2022  00:49:46     00:50:02   00:49:58\n",
       "\n",
       "[204 rows x 4 columns]"
      ]
     },
     "execution_count": 8,
     "metadata": {},
     "output_type": "execute_result"
    }
   ],
   "source": [
    "dataset = pd.read_csv(\"D:/Attendency Project/Attendence.csv\")\n",
    "dataset"
   ]
  },
  {
   "cell_type": "markdown",
   "metadata": {},
   "source": [
    "## Calculating minimum and maximum absence for people"
   ]
  },
  {
   "cell_type": "code",
   "execution_count": 9,
   "metadata": {},
   "outputs": [],
   "source": [
    "def min_max_absence():\n",
    "    \"\"\" This function is for calculating the minimum and maximum absence for people.\n",
    "\n",
    "    Args:\n",
    "        Absence of persons\n",
    "    \"\"\"\n",
    "    Elon_Mask_Absence = dataset['Elon Mask'].value_counts()['Absent']\n",
    "    Person2_Absence = dataset['Ahmed Zewail'].value_counts()['Absent']\n",
    "    Person3_Absence = dataset['Jeff Bezos'].value_counts()['Absent']\n",
    "    mn = min(Elon_Mask_Absence,Person2_Absence,Person3_Absence)\n",
    "    mx = max(Elon_Mask_Absence,Person2_Absence,Person3_Absence)\n",
    "    for column in dataset.columns:\n",
    "        if column == \"Day\":\n",
    "            continue\n",
    "        if dataset[column].value_counts()['Absent'] == mn: a = column\n",
    "        if dataset[column].value_counts()['Absent'] == mx: b = column\n",
    "    print(f\"Minimum absnece is for \\\"{a}\\\" ,,, with {mn} days of absence\")\n",
    "    print(f\"Maximum absnece is for \\\"{b}\\\" ,,, with {mx} days of absence\")\n",
    "    screen3 = Tk()\n",
    "    screen3.geometry('800x300')\n",
    "    screen3.title(\"Attendency System\")\n",
    "    screen3.iconbitmap('D:/Attendency Project/Images/icon.ico')\n",
    "    label100 = Label(screen3,text=f\"Minimum absnece is for \\\"{a}\\\" ,,, with {mn} days of absence\\n\\nMaximum absnece is for \\\"{b}\\\" ,,, with {mx} days of absence\",font=('normal',15))\n",
    "    label100.place(x=0,y=0)\n",
    "    screen3.mainloop()"
   ]
  },
  {
   "cell_type": "code",
   "execution_count": 10,
   "metadata": {},
   "outputs": [
    {
     "name": "stdout",
     "output_type": "stream",
     "text": [
      "Minimum absnece is for \"Elon Mask\" ,,, with 39 days of absence\n",
      "Maximum absnece is for \"Jeff Bezos\" ,,, with 46 days of absence\n"
     ]
    }
   ],
   "source": [
    "Elon_Mask_Absence = dataset['Elon Mask'].value_counts()['Absent']\n",
    "Person2_Absence = dataset['Ahmed Zewail'].value_counts()['Absent']\n",
    "Person3_Absence = dataset['Jeff Bezos'].value_counts()['Absent']\n",
    "\n",
    "min_max_absence()"
   ]
  },
  {
   "cell_type": "markdown",
   "metadata": {},
   "source": [
    "## Plotting attendence Vs absence of people"
   ]
  },
  {
   "cell_type": "code",
   "execution_count": 11,
   "metadata": {},
   "outputs": [
    {
     "data": {
      "image/png": "[encoded data removed]",
      "text/plain": [
       "<Figure size 720x360 with 1 Axes>"
      ]
     },
     "metadata": {
      "needs_background": "light"
     },
     "output_type": "display_data"
    }
   ],
   "source": [
    "def plotting_all_attendence(): \n",
    "    names = []\n",
    "    for column in dataset.columns:\n",
    "        if column == \"Day\":\n",
    "            continue\n",
    "        names.append(column)\n",
    "    width = 0.35\n",
    "    x = np.arange(len(names))\n",
    "    fig, ax = plt.subplots()\n",
    "    rects1 = ax.bar(x+width/2, [190-Elon_Mask_Absence,190-Person2_Absence,190-Person3_Absence],width,label='Attendence')\n",
    "    rects2 = ax.bar(x-width/2, [Elon_Mask_Absence,Person2_Absence,Person3_Absence], width, label='Absnece')\n",
    "\n",
    "    ax.set_ylabel(\"Number of days\")\n",
    "    ax.set_title(\"Attence and Absence\")\n",
    "    ax.set_xticks(x,names)\n",
    "    ax.legend()\n",
    "\n",
    "    fig.set_figheight(5)\n",
    "    fig.set_figwidth(10)\n",
    "\n",
    "    ax.bar_label(rects1,padding=3)\n",
    "    ax.bar_label(rects2,padding=3)\n",
    "    fig.tight_layout()\n",
    "    plt.savefig('D:/Attendency Project/matplotlib images/output1.png')\n",
    "\n",
    "plotting_all_attendence()"
   ]
  },
  {
   "cell_type": "markdown",
   "metadata": {},
   "source": [
    "## Getting each month and its days of attendence in last year"
   ]
  },
  {
   "cell_type": "code",
   "execution_count": 12,
   "metadata": {},
   "outputs": [
    {
     "data": {
      "text/plain": [
       "{'November': 26,\n",
       " 'December': 26,\n",
       " 'January': 26,\n",
       " 'February': 20,\n",
       " 'March': 26,\n",
       " 'April': 25}"
      ]
     },
     "execution_count": 12,
     "metadata": {},
     "output_type": "execute_result"
    }
   ],
   "source": [
    "def months_attendance(name):\n",
    "    months = dict()\n",
    "    count = 0\n",
    "    month = \"November\"\n",
    "    for i in range(190): # 364 no.of days in 2021\n",
    "        if dataset.at[i,'Day'][3:-5] != month:\n",
    "            months[month] = count\n",
    "            month = dataset.at[i,'Day'][3:-5]\n",
    "            count = 0\n",
    "        if dataset.at[i,name] != \"Absent\":\n",
    "            count += 1\n",
    "\n",
    "    return months\n",
    "months_attendance(\"Elon Mask\")"
   ]
  },
  {
   "cell_type": "markdown",
   "metadata": {},
   "source": [
    "## Plotting last year attendence"
   ]
  },
  {
   "cell_type": "code",
   "execution_count": 13,
   "metadata": {},
   "outputs": [
    {
     "data": {
      "image/png": "[encoded data removed]",
      "text/plain": [
       "<Figure size 1080x576 with 1 Axes>"
      ]
     },
     "metadata": {
      "needs_background": "light"
     },
     "output_type": "display_data"
    }
   ],
   "source": [
    "def plotting_person_attendence(name):\n",
    "    fig,ax = plt.subplots()\n",
    "    ax.plot(months_attendance(name).keys(),months_attendance(name).values())\n",
    "    plt.xlabel('Month',fontsize=20,color='b',labelpad=15)\n",
    "    plt.xticks(fontsize=15)\n",
    "    plt.ylabel('Attendance Days',fontsize=20,color='b',labelpad=15)\n",
    "    plt.yticks(fontsize=15)\n",
    "    fig.set_figheight(8)\n",
    "    fig.set_figwidth(15)\n",
    "    \n",
    "    plt.savefig('D:/Attendency Project/matplotlib images/output.png')\n",
    "plotting_person_attendence('Ahmed Zewail')"
   ]
  },
  {
   "cell_type": "markdown",
   "metadata": {},
   "source": [
    "<h1><Center>UI</Center></h1>"
   ]
  },
  {
   "cell_type": "markdown",
   "metadata": {},
   "source": [
    "## Importing Libraries"
   ]
  },
  {
   "cell_type": "code",
   "execution_count": 14,
   "metadata": {},
   "outputs": [],
   "source": [
    "from tkinter import *\n",
    "import tkinter.font as fnt"
   ]
  },
  {
   "cell_type": "markdown",
   "metadata": {},
   "source": [
    "## Getting attendence data"
   ]
  },
  {
   "cell_type": "code",
   "execution_count": 15,
   "metadata": {},
   "outputs": [],
   "source": [
    "def getting_attendence_data():\n",
    "    screen = Tk()\n",
    "    screen.title(\"All Data\")\n",
    "    screen.iconbitmap('D:/Attendency Project/Images/icon.ico')\n",
    "\n",
    "    col_names = ('Day','Elon Mask','Ahmed Zewail','Jeff Bezos')\n",
    "    for i,col_name in enumerate(col_names,start=0):\n",
    "        Label(screen,text=col_name).grid(row=3, column=i, padx=40)\n",
    "\n",
    "    with open('D:/Attendency Project/Attendence.csv','r',newline=\"\") as file:\n",
    "        reader = csv.reader(file)\n",
    "        data = list(reader)\n",
    "\n",
    "    entrieslist = []\n",
    "    for i, row in enumerate(data, start=0):\n",
    "        entrieslist.append(row[0])\n",
    "        for col in range(4):\n",
    "            Label(screen,text=row[col]).grid(row=i, column=col)\n",
    "    screen.mainloop()"
   ]
  },
  {
   "cell_type": "markdown",
   "metadata": {},
   "source": [
    "## Data for one person"
   ]
  },
  {
   "cell_type": "code",
   "execution_count": 16,
   "metadata": {},
   "outputs": [],
   "source": [
    "def search_data(name):\n",
    "    screen = Tk()\n",
    "    screen.title(f\"{name} Data\")\n",
    "    screen.iconbitmap('D:/Attendency Project/Images/icon.ico')\n",
    "    screen.geometry('500x600+750+100')\n",
    "    names = ['Elon Mask','Ahmed Zewail','Jeff Bezos']\n",
    "    index = 0\n",
    "    for i,j in enumerate(names):\n",
    "        if name == j:\n",
    "            index = i+1\n",
    "\n",
    "    col_names = ('Day',name)\n",
    "   \n",
    "    for i,col_name in enumerate(col_names):\n",
    "        Label(screen,text=col_name).grid(row=2, column=i, padx=70)\n",
    "    \n",
    "    with open('D:/Attendency Project/Attendence.csv','r',newline=\"\") as file:\n",
    "        reader = csv.reader(file)\n",
    "        data = list(reader)\n",
    "\n",
    "    entrieslist = []\n",
    "    for i, row in enumerate(data):\n",
    "        entrieslist.append(row[0])\n",
    "        for x,j in enumerate([0,index]):\n",
    "            Label(screen,text=row[j]).grid(row=i, column=x)\n",
    "   \n",
    "    screen.mainloop()"
   ]
  },
  {
   "cell_type": "markdown",
   "metadata": {},
   "source": [
    "## Creating widgets"
   ]
  },
  {
   "cell_type": "code",
   "execution_count": 17,
   "metadata": {},
   "outputs": [
    {
     "name": "stderr",
     "output_type": "stream",
     "text": [
      "Exception in Tkinter callback\n",
      "Traceback (most recent call last):\n",
      "  File \"c:\\Program Files\\Python38\\lib\\tkinter\\__init__.py\", line 1892, in __call__\n",
      "    return self.func(*args)\n",
      "  File \"c:\\Program Files\\Python38\\lib\\tkinter\\__init__.py\", line 3948, in __call__\n",
      "    self.__callback(self.__value, *args)\n",
      "TypeError: button2_func() takes 0 positional arguments but 1 was given\n"
     ]
    },
    {
     "name": "stdout",
     "output_type": "stream",
     "text": [
      "Minimum absnece is for \"Elon Mask\" ,,, with 39 days of absence\n",
      "Maximum absnece is for \"Jeff Bezos\" ,,, with 46 days of absence\n"
     ]
    }
   ],
   "source": [
    "class MainWindow():\n",
    "    def __init__(self,main_window):\n",
    "        self.controler = 0\n",
    "        self.main_window()\n",
    "\n",
    "    def main_window(self):\n",
    "        root.title(\"Attendency System\")\n",
    "        root.iconbitmap('D:/Attendency Project/Images/icon.ico')\n",
    "        root.config(bg='#003366')\n",
    "        \n",
    "        ####################### \"Welcome to Attendency\" Label ####################\n",
    "        self.main_label = Label(root,text='Welcome to Attendency',font=('Courier', 40),fg='white',bg='#003366')\n",
    "        self.main_label.pack(padx=100,pady=50)\n",
    "\n",
    "        ###################### Image #######################\n",
    "        self.main_img = PhotoImage(file=\"D:/Attendency Project/Images/img1.png\")\n",
    "        self.imglabel = Label(root,image = self.main_img)\n",
    "        self.imglabel.place(x=550,y=180,width=400,height=280)\n",
    "\n",
    "        ###################### \"Start\" Button ##################\n",
    "        self.main_button = Button(root,text='Start',bg='#cc3300',fg='white',activebackground='Slate Gray',font=fnt.Font(size = 30),width=15,height=2)\n",
    "        self.main_button.place(x=610,y=530,width=270,height=80)\n",
    "        self.main_button.bind('<Button-1>',self.second_window)\n",
    "\n",
    "     \n",
    "\n",
    "        self.gui_elements = [self.main_button,self.main_label,self.imglabel]\n",
    "\n",
    "    def second_window(self,event):\n",
    "\n",
    "        self.remove_elements(self.gui_elements)\n",
    "        root.config(bg='#003366')\n",
    "\n",
    "        #################### \"Attendency\" Label #####################\n",
    "        self.second_label1 = Label(root,text=\"Attendency\",font=('Courier', 40),fg='white',bg='#003366')\n",
    "        self.second_label1.place(x=240,y=50)\n",
    "\n",
    "        ################### \"Open Camera\" Button ####################\n",
    "        self.second_button1 = Button(root,text=\"Open Camera\",command=starting_recognition,bg='#cc3300',fg='white',activebackground='Slate Gray',font=fnt.Font(size = 25),width=10,height=2)\n",
    "        self.second_button1.place(x=240,y=150,width=320,height=70)\n",
    "\n",
    "        ################### \"Person\" Label ######################\n",
    "        self.second_label2 = Label(root,text=\"Person: \",font=('normal', 25),fg='white',bg='#003366')\n",
    "        self.second_label2.place(x=30,y=330)\n",
    "        \n",
    "        #################### Drop Down list #####################\n",
    "        def button2_func():\n",
    "            search_data(self.second_clicked.get())\n",
    "        \n",
    "        def button3_func():\n",
    "            screen50 = Tk()\n",
    "            img1111 = PhotoImage(file='D:/Attendency Project/Images/img2.png')\n",
    "            label_img1111 = Label(screen50,image =img1111)\n",
    "            label_img1111.place(x=0,y = 0,width=100,height=100)\n",
    "\n",
    "            screen50.mainloop()\n",
    "\n",
    "        names = ['Elon Mask','Ahmed Zewail','Jeff Bezos']\n",
    "        self.second_clicked = StringVar()\n",
    "        self.second_clicked.set(\"Person Name\")\n",
    "\n",
    "        self.drop = OptionMenu( root , self.second_clicked , *names,command=button2_func)\n",
    "        self.drop.config(bg='#003366',fg='white',font=('normal',23),activebackground='#003366',activeforeground='white')\n",
    "        self.drop.place(x=150,y=335,width=550,height=50)\n",
    "\n",
    "        self.drop['menu'].config(bg=\"#003366\",fg='white',font=('normal',20),activeforeground='white')\n",
    "        self.drop.place(x=150,y=335,width=550,height=50)\n",
    "\n",
    "        ######################## \"Person data\" Button ##############\n",
    "        self.second_button2 = Button(root,text=\"Person Data\",bg='#cc3300',command=button2_func,fg='white',activebackground='Slate Gray',font=fnt.Font(size = 20),width=10,height=2)\n",
    "        self.second_button2.place(x=150,y=420,width=250,height=70)\n",
    "\n",
    "        ######################## \"Attendence Analysis\" Button ########\n",
    "        self.second_button3 = Button(root,text=\"Attendence Analysis\",command=button3_func,bg='#cc3300',fg='white',activebackground='Slate Gray',font=fnt.Font(size = 20),width=10,height=2)\n",
    "        self.second_button3.place(x=410,y=420,width=290,height=70)\n",
    "\n",
    "\n",
    "        ######################## \"Display All Data\" ###################\n",
    "        self.second_button4 = Button(root,text=\"Display All Data\",command=getting_attendence_data,bg='#cc3300',fg='white',activebackground='Slate Gray',font=fnt.Font(size = 20),width=10,height=2)\n",
    "        self.second_button4.place(x=410,y=530,width=290,height=70)\n",
    "\n",
    "        ###################### \"Min&Max Absence\" Buttton ############\n",
    "        self.second_button5 = Button(root,text=\"Min&Max Absence\",bg='#cc3300',command=min_max_absence,fg='white',activebackground='Slate Gray',font=fnt.Font(size = 20),width=10,height=2)\n",
    "        self.second_button5.place(x=150,y=530,width=250,height=70)\n",
    "\n",
    "        ##################### Image ###########################\n",
    "        self.second_img = PhotoImage(file=\"D:/Attendency Project/Images/img2.png\")\n",
    "        self.second_imglabel = Label(root,image = self.second_img)\n",
    "        self.second_imglabel.place(x=770,y=0,width=770,height=810)\n",
    " \n",
    "        \n",
    "\n",
    "         \n",
    "    \n",
    "    def remove_elements(self, elements):\n",
    "        for element in elements:\n",
    "            element.destroy()\n",
    "\n",
    "\n",
    "def main():\n",
    "    global root\n",
    "    root = Tk()\n",
    "    root.geometry('1540x810+-7+-2')\n",
    "    root.resizable(False,False)\n",
    "    MainWindow(root)\n",
    "\n",
    "    root.mainloop()\n",
    "main()"
   ]
  }
 ],
 "metadata": {
  "interpreter": {
   "hash": "570feb405e2e27c949193ac68f46852414290d515b0ba6e5d90d076ed2284471"
  },
  "kernelspec": {
   "display_name": "Python 3.8.9 64-bit",
   "language": "python",
   "name": "python3"
  },
  "language_info": {
   "codemirror_mode": {
    "name": "ipython",
    "version": 3
   },
   "file_extension": ".py",
   "mimetype": "text/x-python",
   "name": "python",
   "nbconvert_exporter": "python",
   "pygments_lexer": "ipython3",
   "version": "3.8.9"
  },
  "orig_nbformat": 4
 },
 "nbformat": 4,
 "nbformat_minor": 2
}
